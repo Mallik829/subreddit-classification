{
 "cells": [
  {
   "cell_type": "code",
   "execution_count": 1,
   "id": "e3b0fbb7",
   "metadata": {},
   "outputs": [],
   "source": [
    "# Imports\n",
    "import datetime as dt\n",
    "import pandas as pd\n",
    "import matplotlib.pyplot as plt\n",
    "import requests\n",
    "import time"
   ]
  },
  {
   "cell_type": "markdown",
   "id": "bdabee18",
   "metadata": {},
   "source": [
    "#### In this notebook, I will request data from PushShiftAPI for the subreddits r/asoiaf and r/Stormlight_Archive. These will be collected in chunks of 250 posts per month and combined into one DataFrame per subreddit."
   ]
  },
  {
   "cell_type": "code",
   "execution_count": 2,
   "id": "0fc7d75b",
   "metadata": {},
   "outputs": [],
   "source": [
    "pd.set_option('display.max_rows', 100)\n",
    "pd.set_option('display.max_columns', 100)"
   ]
  },
  {
   "cell_type": "code",
   "execution_count": 3,
   "id": "6f3b5a4a",
   "metadata": {},
   "outputs": [],
   "source": [
    "# Timestamps for 2020\n",
    "# jan 1st: 1577854800\n",
    "# feb 1st: 1580533200\n",
    "# mar 1st: 1583038800\n",
    "# apr 1st: 1585713600\n",
    "# may 1st: 1588305600\n",
    "# jun 1st: 1590984000\n",
    "# jul 1st: 1593576000\n",
    "# aug 1st: 1596254400\n",
    "# sep 1st: 1598932800\n",
    "# oct 1st: 1601510400\n",
    "# nov 1st: 1604188800"
   ]
  },
  {
   "cell_type": "markdown",
   "id": "b7f8d1af",
   "metadata": {},
   "source": [
    "## Data Collection"
   ]
  },
  {
   "cell_type": "markdown",
   "id": "244a2330",
   "metadata": {},
   "source": [
    "### Important Note: Reddit data is subject to change, and if these cells are run at a later date the resulting data may be different. The final lines that write to csv are commented out. I recommend that you do not re-write to csv and instead use the existing ones in the data folder. Sleep timers are in place to prevent requests from occuring too quickly but this may be an issue as well."
   ]
  },
  {
   "cell_type": "code",
   "execution_count": 37,
   "id": "b981ff80",
   "metadata": {},
   "outputs": [],
   "source": [
    "# define url and parameters\n",
    "time.sleep(3)\n",
    "base_url = 'https://api.pushshift.io/reddit/search/submission'\n",
    "params = {'subreddit': 'asoiaf', \n",
    "          'size': 250, \n",
    "          'after': 1580533200,\n",
    "          'before': 1583038800,\n",
    "          'fields': ['subreddit', 'selftext', 'title']\n",
    "          \n",
    "\t\t\t}\n",
    "res = requests.get(base_url, params)\n",
    "data = res.json()\n",
    "posts = data['data']\n",
    "gt1_data = pd.DataFrame(posts)"
   ]
  },
  {
   "cell_type": "code",
   "execution_count": 38,
   "id": "17c0ba70",
   "metadata": {},
   "outputs": [],
   "source": [
    "# define url and parameters\n",
    "time.sleep(3)\n",
    "base_url = 'https://api.pushshift.io/reddit/search/submission'\n",
    "params = {'subreddit': 'asoiaf', \n",
    "          'size': 250, \n",
    "          'after': 1583038800,\n",
    "          'before': 1585713600,\n",
    "          'fields': ['subreddit', 'selftext', 'title']\n",
    "          \n",
    "\t\t\t}\n",
    "res = requests.get(base_url, params)\n",
    "data = res.json()\n",
    "posts = data['data']\n",
    "gt2_data = pd.DataFrame(posts)"
   ]
  },
  {
   "cell_type": "code",
   "execution_count": 39,
   "id": "f82f2d19",
   "metadata": {},
   "outputs": [],
   "source": [
    "# define url and parameters\n",
    "time.sleep(3)\n",
    "base_url = 'https://api.pushshift.io/reddit/search/submission'\n",
    "params = {'subreddit': 'asoiaf', \n",
    "          'size': 250, \n",
    "          'after': 1585713600,\n",
    "          'before': 1588305600,\n",
    "          'fields': ['subreddit', 'selftext', 'title']\n",
    "          \n",
    "\t\t\t}\n",
    "res = requests.get(base_url, params)\n",
    "data = res.json()\n",
    "posts = data['data']\n",
    "gt3_data = pd.DataFrame(posts)"
   ]
  },
  {
   "cell_type": "code",
   "execution_count": 40,
   "id": "e187c552",
   "metadata": {},
   "outputs": [],
   "source": [
    "# define url and parameters\n",
    "time.sleep(3)\n",
    "base_url = 'https://api.pushshift.io/reddit/search/submission'\n",
    "params = {'subreddit': 'asoiaf', \n",
    "          'size': 250, \n",
    "          'after': 1588305600,\n",
    "          'before': 1590984000,\n",
    "          'fields': ['subreddit', 'selftext', 'title']\n",
    "          \n",
    "\t\t\t}\n",
    "res = requests.get(base_url, params)\n",
    "data = res.json()\n",
    "posts = data['data']\n",
    "gt4_data = pd.DataFrame(posts)"
   ]
  },
  {
   "cell_type": "code",
   "execution_count": 41,
   "id": "0df1cf26",
   "metadata": {},
   "outputs": [],
   "source": [
    "# define url and parameters\n",
    "time.sleep(3)\n",
    "base_url = 'https://api.pushshift.io/reddit/search/submission'\n",
    "params = {'subreddit': 'asoiaf', \n",
    "          'size': 250, \n",
    "          'after': 1590984000,\n",
    "          'before': 1593576000,\n",
    "          'fields': ['subreddit', 'selftext', 'title']\n",
    "          \n",
    "\t\t\t}\n",
    "res = requests.get(base_url, params)\n",
    "data = res.json()\n",
    "posts = data['data']\n",
    "gt5_data = pd.DataFrame(posts)"
   ]
  },
  {
   "cell_type": "code",
   "execution_count": 42,
   "id": "7af759bd",
   "metadata": {},
   "outputs": [],
   "source": [
    "# define url and parameters\n",
    "time.sleep(3)\n",
    "base_url = 'https://api.pushshift.io/reddit/search/submission'\n",
    "params = {'subreddit': 'asoiaf', \n",
    "          'size': 250, \n",
    "          'after': 1593576000,\n",
    "          'before': 1596254400,\n",
    "          'fields': ['subreddit', 'selftext', 'title']\n",
    "          \n",
    "\t\t\t}\n",
    "res = requests.get(base_url, params)\n",
    "data = res.json()\n",
    "posts = data['data']\n",
    "gt6_data = pd.DataFrame(posts)"
   ]
  },
  {
   "cell_type": "code",
   "execution_count": 43,
   "id": "2354be54",
   "metadata": {},
   "outputs": [],
   "source": [
    "# define url and parameters\n",
    "time.sleep(3)\n",
    "base_url = 'https://api.pushshift.io/reddit/search/submission'\n",
    "params = {'subreddit': 'asoiaf', \n",
    "          'size': 250, \n",
    "          'after': 1596254400,\n",
    "          'before': 1598932800,\n",
    "          'fields': ['subreddit', 'selftext', 'title']\n",
    "          \n",
    "\t\t\t}\n",
    "res = requests.get(base_url, params)\n",
    "data = res.json()\n",
    "posts = data['data']\n",
    "gt7_data = pd.DataFrame(posts)"
   ]
  },
  {
   "cell_type": "code",
   "execution_count": 44,
   "id": "21920e2a",
   "metadata": {},
   "outputs": [],
   "source": [
    "# define url and parameters\n",
    "time.sleep(3)\n",
    "base_url = 'https://api.pushshift.io/reddit/search/submission'\n",
    "params = {'subreddit': 'asoiaf', \n",
    "          'size': 250, \n",
    "          'after': 1598932800,\n",
    "          'before': 1601510400,\n",
    "          'fields': ['subreddit', 'selftext', 'title']\n",
    "          \n",
    "\t\t\t}\n",
    "res = requests.get(base_url, params)\n",
    "data = res.json()\n",
    "posts = data['data']\n",
    "gt8_data = pd.DataFrame(posts)"
   ]
  },
  {
   "cell_type": "code",
   "execution_count": 45,
   "id": "af712b18",
   "metadata": {},
   "outputs": [],
   "source": [
    "gt_data = pd.DataFrame(columns = ['subreddit', 'selftext', 'title'])"
   ]
  },
  {
   "cell_type": "code",
   "execution_count": 46,
   "id": "1bdae5d6",
   "metadata": {},
   "outputs": [],
   "source": [
    "# combine asoiaf data into 1 dataframe\n",
    "dfs = [gt1_data, gt2_data, gt3_data, gt4_data, gt5_data, gt6_data, gt7_data, gt8_data]\n",
    "for df in dfs:\n",
    "    gt_data = gt_data.append(df, ignore_index=True, sort=True)"
   ]
  },
  {
   "cell_type": "code",
   "execution_count": 47,
   "id": "5c5f0f9d",
   "metadata": {},
   "outputs": [],
   "source": [
    "# define url and parameters\n",
    "time.sleep(3)\n",
    "base_url = 'https://api.pushshift.io/reddit/search/submission'\n",
    "params = {'subreddit': 'Stormlight_Archive', \n",
    "          'size': 250, \n",
    "          'after': 1580533200,\n",
    "          'before': 1583038800,\n",
    "          'fields': ['subreddit', 'selftext', 'title']\n",
    "          \n",
    "\t\t\t}\n",
    "res = requests.get(base_url, params)\n",
    "data = res.json()\n",
    "posts = data['data']\n",
    "sa1_data = pd.DataFrame(posts)"
   ]
  },
  {
   "cell_type": "code",
   "execution_count": 48,
   "id": "6e3ee97d",
   "metadata": {},
   "outputs": [],
   "source": [
    "# define url and parameters\n",
    "time.sleep(3)\n",
    "base_url = 'https://api.pushshift.io/reddit/search/submission'\n",
    "params = {'subreddit': 'Stormlight_Archive', \n",
    "          'size': 250, \n",
    "          'after': 1583038800,\n",
    "          'before': 1585713600,\n",
    "          'fields': ['subreddit', 'selftext', 'title']\n",
    "          \n",
    "\t\t\t}\n",
    "res = requests.get(base_url, params)\n",
    "data = res.json()\n",
    "posts = data['data']\n",
    "sa2_data = pd.DataFrame(posts)"
   ]
  },
  {
   "cell_type": "code",
   "execution_count": 49,
   "id": "1a8db2a1",
   "metadata": {},
   "outputs": [],
   "source": [
    "# define url and parameters\n",
    "time.sleep(3)\n",
    "base_url = 'https://api.pushshift.io/reddit/search/submission'\n",
    "params = {'subreddit': 'Stormlight_Archive', \n",
    "          'size': 250, \n",
    "          'after': 1585713600,\n",
    "          'before': 1586908800,\n",
    "          'fields': ['subreddit', 'selftext', 'title']\n",
    "          \n",
    "\t\t\t}\n",
    "res = requests.get(base_url, params)\n",
    "data = res.json()\n",
    "posts = data['data']\n",
    "sa3_data = pd.DataFrame(posts)"
   ]
  },
  {
   "cell_type": "code",
   "execution_count": 50,
   "id": "41b8a124",
   "metadata": {},
   "outputs": [],
   "source": [
    "# define url and parameters\n",
    "time.sleep(3)\n",
    "base_url = 'https://api.pushshift.io/reddit/search/submission'\n",
    "params = {'subreddit': 'Stormlight_Archive', \n",
    "          'size': 250, \n",
    "          'after': 1588305600,\n",
    "          'before': 1590984000,\n",
    "          'fields': ['subreddit', 'selftext', 'title']\n",
    "          \n",
    "\t\t\t}\n",
    "res = requests.get(base_url, params)\n",
    "data = res.json()\n",
    "posts = data['data']\n",
    "sa4_data = pd.DataFrame(posts)"
   ]
  },
  {
   "cell_type": "code",
   "execution_count": 51,
   "id": "7de59110",
   "metadata": {},
   "outputs": [],
   "source": [
    "# define url and parameters\n",
    "time.sleep(3)\n",
    "base_url = 'https://api.pushshift.io/reddit/search/submission'\n",
    "params = {'subreddit': 'Stormlight_Archive', \n",
    "          'size': 250, \n",
    "          'after': 1597449600,\n",
    "          'before': 1593576000,\n",
    "          'fields': ['subreddit', 'selftext', 'title']\n",
    "          \n",
    "\t\t\t}\n",
    "res = requests.get(base_url, params)\n",
    "data = res.json()\n",
    "posts = data['data']\n",
    "sa5_data = pd.DataFrame(posts)"
   ]
  },
  {
   "cell_type": "code",
   "execution_count": 52,
   "id": "4d4f8270",
   "metadata": {},
   "outputs": [],
   "source": [
    "# define url and parameters\n",
    "time.sleep(3)\n",
    "base_url = 'https://api.pushshift.io/reddit/search/submission'\n",
    "params = {'subreddit': 'Stormlight_Archive', \n",
    "          'size': 250, \n",
    "          'after': 1593576000,\n",
    "          'before': 1596254400,\n",
    "          'fields': ['subreddit', 'selftext', 'title']\n",
    "          \n",
    "\t\t\t}\n",
    "res = requests.get(base_url, params)\n",
    "data = res.json()\n",
    "posts = data['data']\n",
    "sa6_data = pd.DataFrame(posts)"
   ]
  },
  {
   "cell_type": "code",
   "execution_count": 53,
   "id": "da3557ff",
   "metadata": {},
   "outputs": [],
   "source": [
    "# define url and parameters\n",
    "time.sleep(3)\n",
    "base_url = 'https://api.pushshift.io/reddit/search/submission'\n",
    "params = {'subreddit': 'Stormlight_Archive', \n",
    "          'size': 250, \n",
    "          'after': 1596254400,\n",
    "          'before': 1598932800,\n",
    "          'fields': ['subreddit', 'selftext', 'title']\n",
    "          \n",
    "\t\t\t}\n",
    "res = requests.get(base_url, params)\n",
    "data = res.json()\n",
    "posts = data['data']\n",
    "sa7_data = pd.DataFrame(posts)"
   ]
  },
  {
   "cell_type": "code",
   "execution_count": 54,
   "id": "c3abba5d",
   "metadata": {},
   "outputs": [],
   "source": [
    "# define url and parameters\n",
    "time.sleep(3)\n",
    "base_url = 'https://api.pushshift.io/reddit/search/submission'\n",
    "params = {'subreddit': 'Stormlight_Archive', \n",
    "          'size': 250, \n",
    "          'after': 1598932800,\n",
    "          'before': 1601510400,\n",
    "          'fields': ['subreddit', 'selftext', 'title']\n",
    "          \n",
    "\t\t\t}\n",
    "res = requests.get(base_url, params)\n",
    "data = res.json()\n",
    "posts = data['data']\n",
    "sa8_data = pd.DataFrame(posts)"
   ]
  },
  {
   "cell_type": "code",
   "execution_count": 55,
   "id": "36516c0e",
   "metadata": {},
   "outputs": [],
   "source": [
    "# define url and parameters\n",
    "time.sleep(3)\n",
    "base_url = 'https://api.pushshift.io/reddit/search/submission'\n",
    "params = {'subreddit': 'Stormlight_Archive', \n",
    "          'size': 250, \n",
    "          'after': 1601510400,\n",
    "          'before': 1604188800,\n",
    "          'fields': ['subreddit', 'selftext', 'title']\n",
    "          \n",
    "\t\t\t}\n",
    "res = requests.get(base_url, params)\n",
    "data = res.json()\n",
    "posts = data['data']\n",
    "sa9_data = pd.DataFrame(posts)"
   ]
  },
  {
   "cell_type": "code",
   "execution_count": 56,
   "id": "6dfac918",
   "metadata": {},
   "outputs": [],
   "source": [
    "sa_data = pd.DataFrame(columns = ['subreddit', 'selftext', 'title'])"
   ]
  },
  {
   "cell_type": "code",
   "execution_count": 57,
   "id": "51eb2736",
   "metadata": {},
   "outputs": [],
   "source": [
    "# combine Stormlight_archive data into 1 dataframe\n",
    "dfs = [sa1_data, sa2_data, sa3_data, sa4_data, sa5_data, sa6_data, sa7_data, sa8_data, sa9_data]\n",
    "for df in dfs:\n",
    "    sa_data = sa_data.append(df, ignore_index=True, sort=True)"
   ]
  },
  {
   "cell_type": "code",
   "execution_count": 60,
   "id": "4995b4c8",
   "metadata": {},
   "outputs": [],
   "source": [
    "# drop removed posts\n",
    "sa_data = sa_data[sa_data['selftext'] != '[removed]']\n",
    "gt_data = gt_data[gt_data['selftext'] != '[removed]']"
   ]
  },
  {
   "cell_type": "code",
   "execution_count": 61,
   "id": "b3abcf7f",
   "metadata": {},
   "outputs": [],
   "source": [
    "# drop empty posts\n",
    "sa_data = sa_data[sa_data['selftext'] != '']\n",
    "gt_data = gt_data[gt_data['selftext'] != '']"
   ]
  },
  {
   "cell_type": "code",
   "execution_count": 70,
   "id": "b00a8f1d",
   "metadata": {},
   "outputs": [],
   "source": [
    "# drop rows with na values\n",
    "sa_data.dropna(inplace=True)\n",
    "gt_data.dropna(inplace=True)"
   ]
  },
  {
   "cell_type": "code",
   "execution_count": 73,
   "id": "493a65ec",
   "metadata": {},
   "outputs": [],
   "source": [
    "# write data to csv\n",
    "#sa_data.to_csv('../data/SA_data.csv')\n",
    "#gt_data.to_csv('../data/GT_data.csv')"
   ]
  }
 ],
 "metadata": {
  "kernelspec": {
   "display_name": "Python 3 (ipykernel)",
   "language": "python",
   "name": "python3"
  },
  "language_info": {
   "codemirror_mode": {
    "name": "ipython",
    "version": 3
   },
   "file_extension": ".py",
   "mimetype": "text/x-python",
   "name": "python",
   "nbconvert_exporter": "python",
   "pygments_lexer": "ipython3",
   "version": "3.7.5"
  }
 },
 "nbformat": 4,
 "nbformat_minor": 5
}
