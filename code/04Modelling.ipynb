{
 "cells": [
  {
   "cell_type": "code",
   "execution_count": 106,
   "id": "bd2bbad8",
   "metadata": {},
   "outputs": [],
   "source": [
    "import numpy as np\n",
    "import pandas as pd\n",
    "import matplotlib.pyplot as plt\n",
    "\n",
    "from sklearn.model_selection import GridSearchCV, train_test_split, cross_val_score\n",
    "from sklearn.ensemble import RandomForestClassifier\n",
    "from sklearn.svm import SVC\n",
    "from sklearn.feature_extraction.text import CountVectorizer, TfidfVectorizer\n",
    "from sklearn.metrics import confusion_matrix, ConfusionMatrixDisplay"
   ]
  },
  {
   "cell_type": "markdown",
   "id": "fea3ef3e",
   "metadata": {},
   "source": [
    "#### In this notebook, I will train two different kinds of models (Random Forest and SVM) on different aspects of my data and produce predictions"
   ]
  },
  {
   "cell_type": "code",
   "execution_count": 2,
   "id": "b8f3b460",
   "metadata": {},
   "outputs": [],
   "source": [
    "pd.set_option('display.max_rows', 100)\n",
    "pd.set_option('display.max_columns', 100)"
   ]
  },
  {
   "cell_type": "code",
   "execution_count": 4,
   "id": "4af73111",
   "metadata": {},
   "outputs": [],
   "source": [
    "# read in data\n",
    "book_data = pd.read_csv('../data/book_data.csv')"
   ]
  },
  {
   "cell_type": "code",
   "execution_count": 5,
   "id": "32256fb9",
   "metadata": {},
   "outputs": [],
   "source": [
    "# remove unnamed columns\n",
    "book_data.drop(columns='Unnamed: 0', inplace=True)"
   ]
  },
  {
   "cell_type": "code",
   "execution_count": 6,
   "id": "4527c233",
   "metadata": {},
   "outputs": [],
   "source": [
    "# drop rows with na values. These are rows with no words to lemmatize from the previous notebook\n",
    "book_data.dropna(inplace=True)"
   ]
  },
  {
   "cell_type": "markdown",
   "id": "bac0cd72",
   "metadata": {},
   "source": [
    "#### Define X, y and Train Test Sets"
   ]
  },
  {
   "cell_type": "code",
   "execution_count": 7,
   "id": "0d33a63e",
   "metadata": {},
   "outputs": [],
   "source": [
    "# Define X and y for vectorized data\n",
    "X = book_data[['lemmatized_words']]\n",
    "y = book_data['subreddit']\n",
    "\n",
    "# Train test split\n",
    "X_train, X_test, y_train, y_test = train_test_split(X, y, random_state=16, stratify=y)"
   ]
  },
  {
   "cell_type": "markdown",
   "id": "df924540",
   "metadata": {},
   "source": [
    "### Count Vectorization and Tfidf Vectorization\n",
    "#### This will be used for modelling"
   ]
  },
  {
   "cell_type": "code",
   "execution_count": 9,
   "id": "b6bd6b42",
   "metadata": {},
   "outputs": [],
   "source": [
    "# define custom stop words. English stop words have already been removed\n",
    "# these mostly consist of words that appear in reddit posts but have little to do with the actual text.\n",
    "# many are related to links and reddit text formatting\n",
    "book_stopwords = ['like', 'reddit', 'https', 'view', 'http', 'gt', 'lt', 'www', 'amp', 'x200b', 'imgur', 'com', 'org', 'index', 'php', 'poll']"
   ]
  },
  {
   "cell_type": "code",
   "execution_count": 84,
   "id": "e95b2d56",
   "metadata": {},
   "outputs": [],
   "source": [
    "# Instantiate Count Vectorizer for ngrams = 1\n",
    "cvec = CountVectorizer(max_features=5000, stop_words=book_stopwords, ngram_range=(1,2))"
   ]
  },
  {
   "cell_type": "code",
   "execution_count": 85,
   "id": "43bd5fe4",
   "metadata": {},
   "outputs": [],
   "source": [
    "# Fit and Transform book data\n",
    "X_train_cv = cvec.fit_transform(X_train['lemmatized_words'])\n",
    "X_test_cv = cvec.transform(X_test['lemmatized_words'])"
   ]
  },
  {
   "cell_type": "code",
   "execution_count": 86,
   "id": "3ebdd38b",
   "metadata": {
    "scrolled": true
   },
   "outputs": [],
   "source": [
    "# Convert to DataFrames\n",
    "X_train_cv_df = pd.DataFrame(X_train_cv.todense(), columns=cvec.get_feature_names())\n",
    "X_test_cv_df = pd.DataFrame(X_test_cv.todense(), columns=cvec.get_feature_names())"
   ]
  },
  {
   "cell_type": "code",
   "execution_count": 79,
   "id": "91010253",
   "metadata": {},
   "outputs": [],
   "source": [
    "# Instantiate Tfidf Vectorizer for ngrams = 1\n",
    "tvec = TfidfVectorizer(max_features = 5000, stop_words = book_stopwords, ngram_range=(1,2))"
   ]
  },
  {
   "cell_type": "code",
   "execution_count": 80,
   "id": "8c233d65",
   "metadata": {},
   "outputs": [],
   "source": [
    "# Fit and Transform book train data\n",
    "X_train_tv = tvec.fit_transform(X_train['lemmatized_words'])\n",
    "X_test_tv = tvec.transform(X_test['lemmatized_words'])"
   ]
  },
  {
   "cell_type": "code",
   "execution_count": 81,
   "id": "dfea31a4",
   "metadata": {},
   "outputs": [
    {
     "name": "stderr",
     "output_type": "stream",
     "text": [
      "/home/mark/Python/anaconda3/lib/python3.7/site-packages/sklearn/utils/deprecation.py:87: FutureWarning: Function get_feature_names is deprecated; get_feature_names is deprecated in 1.0 and will be removed in 1.2. Please use get_feature_names_out instead.\n",
      "  warnings.warn(msg, category=FutureWarning)\n"
     ]
    }
   ],
   "source": [
    "# Convert to DataFrame\n",
    "X_train_tv_df = pd.DataFrame(X_train_tv.todense(), columns=tvec.get_feature_names())\n",
    "X_test_tv_df = pd.DataFrame(X_test_tv.todense(), columns=tvec.get_feature_names())"
   ]
  },
  {
   "cell_type": "markdown",
   "id": "573e7fd0",
   "metadata": {},
   "source": [
    "### Random Forest Modelling"
   ]
  },
  {
   "cell_type": "code",
   "execution_count": 82,
   "id": "efceea8d",
   "metadata": {},
   "outputs": [
    {
     "data": {
      "text/plain": [
       "0.5126475548060708"
      ]
     },
     "execution_count": 82,
     "metadata": {},
     "output_type": "execute_result"
    }
   ],
   "source": [
    "# Establish Baseline Accuracy\n",
    "y.value_counts(normalize=True)[0]"
   ]
  },
  {
   "cell_type": "code",
   "execution_count": 95,
   "id": "1ea4d5ae",
   "metadata": {},
   "outputs": [],
   "source": [
    "# Instantiate Random Forest\n",
    "rf = RandomForestClassifier(n_estimators=100)"
   ]
  },
  {
   "cell_type": "code",
   "execution_count": 90,
   "id": "05f8ac18",
   "metadata": {},
   "outputs": [
    {
     "data": {
      "text/plain": [
       "RandomForestClassifier()"
      ]
     },
     "execution_count": 90,
     "metadata": {},
     "output_type": "execute_result"
    }
   ],
   "source": [
    "# Fit model\n",
    "rf.fit(X_train_cv_df, y_train)"
   ]
  },
  {
   "cell_type": "code",
   "execution_count": 91,
   "id": "918f6e28",
   "metadata": {},
   "outputs": [
    {
     "data": {
      "text/plain": [
       "0.9308600337268128"
      ]
     },
     "execution_count": 91,
     "metadata": {},
     "output_type": "execute_result"
    }
   ],
   "source": [
    "# test accuracy\n",
    "rf.score(X_test_cv_df, y_test)"
   ]
  },
  {
   "cell_type": "code",
   "execution_count": 93,
   "id": "59608059",
   "metadata": {},
   "outputs": [
    {
     "data": {
      "text/plain": [
       "0.9893198426082068"
      ]
     },
     "execution_count": 93,
     "metadata": {},
     "output_type": "execute_result"
    }
   ],
   "source": [
    "# train accuracy\n",
    "rf.score(X_train_cv_df, y_train)"
   ]
  },
  {
   "cell_type": "code",
   "execution_count": 94,
   "id": "2e9e3db2",
   "metadata": {},
   "outputs": [
    {
     "data": {
      "text/plain": [
       "0.9224434245924987"
      ]
     },
     "execution_count": 94,
     "metadata": {},
     "output_type": "execute_result"
    }
   ],
   "source": [
    "# Cross validation on Count Vectorized data\n",
    "cross_val_score(rf, X_train_cv_df, y_train, cv=5).mean()"
   ]
  },
  {
   "cell_type": "code",
   "execution_count": 96,
   "id": "fa5aae13",
   "metadata": {},
   "outputs": [
    {
     "data": {
      "text/plain": [
       "0.9173872448172178"
      ]
     },
     "execution_count": 96,
     "metadata": {},
     "output_type": "execute_result"
    }
   ],
   "source": [
    "# Cross validation on Tfidf Vectorized data\n",
    "cross_val_score(rf, X_train_tv_df, y_train, cv=5).mean()"
   ]
  },
  {
   "cell_type": "markdown",
   "id": "ca901ce1",
   "metadata": {},
   "source": [
    "#### After some initial modelling, Random Forest seems to perform best on Count Vectorized data. I will now Grid Search for the best hyperparameters"
   ]
  },
  {
   "cell_type": "code",
   "execution_count": 138,
   "id": "fa926fe6",
   "metadata": {},
   "outputs": [],
   "source": [
    "# define parameter Grid\n",
    "rf_params = {\n",
    "    'n_estimators': [100, 150, 200, 250],\n",
    "    'max_depth': [None, 2, 4, 6, 8]\n",
    "}"
   ]
  },
  {
   "cell_type": "code",
   "execution_count": 139,
   "id": "9eb86ed2",
   "metadata": {},
   "outputs": [],
   "source": [
    "# instantiate Random Forest and Grid Search CV\n",
    "rf = RandomForestClassifier()\n",
    "gs = GridSearchCV(rf, param_grid=rf_params, cv=5)"
   ]
  },
  {
   "cell_type": "code",
   "execution_count": 140,
   "id": "c90be95b",
   "metadata": {},
   "outputs": [
    {
     "data": {
      "text/plain": [
       "GridSearchCV(cv=5, estimator=RandomForestClassifier(),\n",
       "             param_grid={'max_depth': [None, 2, 4, 6, 8, 10, 14],\n",
       "                         'n_estimators': [100, 150, 200, 250, 300]})"
      ]
     },
     "execution_count": 140,
     "metadata": {},
     "output_type": "execute_result"
    }
   ],
   "source": [
    "# Fit Gridsearch object\n",
    "gs.fit(X_train_cv_df, y_train)"
   ]
  },
  {
   "cell_type": "code",
   "execution_count": 141,
   "id": "bf0ff8c4",
   "metadata": {},
   "outputs": [
    {
     "name": "stdout",
     "output_type": "stream",
     "text": [
      "{'max_depth': None, 'n_estimators': 250}\n",
      "0.9263728438043994\n"
     ]
    }
   ],
   "source": [
    "# Get best parameters and best score\n",
    "print(gs.best_params_)\n",
    "print(gs.best_score_)"
   ]
  },
  {
   "cell_type": "code",
   "execution_count": 142,
   "id": "b63ea675",
   "metadata": {},
   "outputs": [
    {
     "data": {
      "text/plain": [
       "0.9342327150084317"
      ]
     },
     "execution_count": 142,
     "metadata": {},
     "output_type": "execute_result"
    }
   ],
   "source": [
    "# Score on test data\n",
    "gs.score(X_test_cv_df, y_test)"
   ]
  },
  {
   "cell_type": "markdown",
   "id": "8408e06c",
   "metadata": {},
   "source": [
    "#### After Grid Searching for best parameters, accuracy has increased slightly on the test data"
   ]
  },
  {
   "cell_type": "code",
   "execution_count": 143,
   "id": "ee5ecf09",
   "metadata": {},
   "outputs": [],
   "source": [
    "# Make Predictions\n",
    "y_preds = gs.predict(X_test_cv_df)"
   ]
  },
  {
   "cell_type": "code",
   "execution_count": 144,
   "id": "aae84f8e",
   "metadata": {},
   "outputs": [],
   "source": [
    "# Generate Confusion Matrix\n",
    "cm = confusion_matrix(y_test, y_preds)\n",
    "cm_display = ConfusionMatrixDisplay(cm, display_labels=['ASoIaF', 'Stormlight Archive'])"
   ]
  },
  {
   "cell_type": "code",
   "execution_count": 146,
   "id": "f25c02e1",
   "metadata": {
    "scrolled": false
   },
   "outputs": [
    {
     "data": {
      "image/png": "[encoded data removed]",
      "text/plain": [
       "<Figure size 640x480 with 2 Axes>"
      ]
     },
     "metadata": {},
     "output_type": "display_data"
    }
   ],
   "source": [
    "# Display confusion matrix\n",
    "cm_display.plot()\n",
    "plt.show()"
   ]
  },
  {
   "cell_type": "code",
   "execution_count": 147,
   "id": "5d152a9f",
   "metadata": {},
   "outputs": [],
   "source": [
    "rf = RandomForestClassifier(max_depth=None, n_estimators=250)"
   ]
  },
  {
   "cell_type": "code",
   "execution_count": 148,
   "id": "627f009b",
   "metadata": {},
   "outputs": [
    {
     "data": {
      "text/plain": [
       "RandomForestClassifier(n_estimators=250)"
      ]
     },
     "execution_count": 148,
     "metadata": {},
     "output_type": "execute_result"
    }
   ],
   "source": [
    "# Fit Random Forest\n",
    "rf.fit(X_train_cv_df, y_train)"
   ]
  },
  {
   "cell_type": "code",
   "execution_count": 149,
   "id": "d885f295",
   "metadata": {},
   "outputs": [],
   "source": [
    "# sort feature importance indexes\n",
    "sorted_index = rf.feature_importances_.argsort()"
   ]
  },
  {
   "cell_type": "code",
   "execution_count": 150,
   "id": "0190e941",
   "metadata": {
    "scrolled": false
   },
   "outputs": [
    {
     "data": {
      "image/png": "[encoded data removed]",
      "text/plain": [
       "<Figure size 640x480 with 1 Axes>"
      ]
     },
     "metadata": {},
     "output_type": "display_data"
    }
   ],
   "source": [
    "# plot most important features\n",
    "plt.title('Top 20 Important Features from Random Forest')\n",
    "plt.barh(X_train_cv_df.columns[sorted_index][-20:], rf.feature_importances_[sorted_index][-20:]);"
   ]
  },
  {
   "cell_type": "markdown",
   "id": "21bb9f9c",
   "metadata": {},
   "source": [
    "### SVM Modelling"
   ]
  },
  {
   "cell_type": "code",
   "execution_count": 153,
   "id": "a8859cd4",
   "metadata": {},
   "outputs": [],
   "source": [
    "# Define parameter grid for grid searching C value\n",
    "pgrid = {'C': np.logspace(-1, 2, 10)}"
   ]
  },
  {
   "cell_type": "code",
   "execution_count": 154,
   "id": "d4ff6d81",
   "metadata": {},
   "outputs": [],
   "source": [
    "# Instantiate SVM and Grid Search objects\n",
    "svm = SVC(random_state=16)\n",
    "gs = GridSearchCV(svm, pgrid, cv=5)"
   ]
  },
  {
   "cell_type": "code",
   "execution_count": 155,
   "id": "0f23d1aa",
   "metadata": {},
   "outputs": [
    {
     "data": {
      "text/plain": [
       "GridSearchCV(cv=5, estimator=SVC(random_state=16),\n",
       "             param_grid={'C': array([  0.1       ,   0.21544347,   0.46415888,   1.        ,\n",
       "         2.15443469,   4.64158883,  10.        ,  21.5443469 ,\n",
       "        46.41588834, 100.        ])})"
      ]
     },
     "execution_count": 155,
     "metadata": {},
     "output_type": "execute_result"
    }
   ],
   "source": [
    "# Fit\n",
    "gs.fit(X_train_cv_df, y_train)"
   ]
  },
  {
   "cell_type": "code",
   "execution_count": 156,
   "id": "24a9039f",
   "metadata": {},
   "outputs": [
    {
     "name": "stdout",
     "output_type": "stream",
     "text": [
      "{'C': 10.0}\n",
      "0.9106361766102232\n"
     ]
    }
   ],
   "source": [
    "# Get best parameters and best score\n",
    "print(gs.best_params_)\n",
    "print(gs.best_score_)"
   ]
  },
  {
   "cell_type": "code",
   "execution_count": 157,
   "id": "f61ce335",
   "metadata": {},
   "outputs": [
    {
     "data": {
      "text/plain": [
       "0.9190556492411467"
      ]
     },
     "execution_count": 157,
     "metadata": {},
     "output_type": "execute_result"
    }
   ],
   "source": [
    "# Score on test data\n",
    "gs.score(X_test_cv_df, y_test)"
   ]
  },
  {
   "cell_type": "code",
   "execution_count": 158,
   "id": "66b8a2b0",
   "metadata": {},
   "outputs": [],
   "source": [
    "# Make Predictions\n",
    "y_preds = gs.predict(X_test_cv_df)"
   ]
  },
  {
   "cell_type": "code",
   "execution_count": 160,
   "id": "e99f73d9",
   "metadata": {},
   "outputs": [],
   "source": [
    "# Generate Confusion Matrix\n",
    "cm = confusion_matrix(y_test, y_preds)\n",
    "cm_display = ConfusionMatrixDisplay(cm, display_labels=['ASoIaF', 'Stormlight Archive'])"
   ]
  },
  {
   "cell_type": "code",
   "execution_count": 161,
   "id": "5f54c63a",
   "metadata": {},
   "outputs": [
    {
     "data": {
      "image/png": "[encoded data removed]",
      "text/plain": [
       "<Figure size 640x480 with 2 Axes>"
      ]
     },
     "metadata": {},
     "output_type": "display_data"
    }
   ],
   "source": [
    "# Display confusion matrix\n",
    "cm_display.plot()\n",
    "plt.show()"
   ]
  },
  {
   "cell_type": "code",
   "execution_count": 164,
   "id": "21b1dd1b",
   "metadata": {},
   "outputs": [
    {
     "data": {
      "image/png": "[encoded data removed]",
      "text/plain": [
       "<Figure size 800x400 with 1 Axes>"
      ]
     },
     "metadata": {},
     "output_type": "display_data"
    }
   ],
   "source": [
    "# Plot SVM score for C values\n",
    "df_gs = pd.DataFrame(gs.cv_results_)\n",
    "plt.figure(figsize=(8, 4))\n",
    "plt.title('SVM performance for C values ranging 0.1 to 100')\n",
    "plt.plot(df_gs.param_C, df_gs.mean_test_score);"
   ]
  },
  {
   "cell_type": "markdown",
   "id": "c611e37c",
   "metadata": {},
   "source": [
    "### Model Performance"
   ]
  },
  {
   "cell_type": "markdown",
   "id": "3b1f90fa",
   "metadata": {},
   "source": [
    "After testing both the Count Vectorized and the Tfidf Vectorized data, the models performed best with the Count Vectorized data. Random Forest performed the best with a final test accuracy of 0.9342. SVM had a final test accuracy of 0.9190."
   ]
  }
 ],
 "metadata": {
  "kernelspec": {
   "display_name": "Python 3 (ipykernel)",
   "language": "python",
   "name": "python3"
  },
  "language_info": {
   "codemirror_mode": {
    "name": "ipython",
    "version": 3
   },
   "file_extension": ".py",
   "mimetype": "text/x-python",
   "name": "python",
   "nbconvert_exporter": "python",
   "pygments_lexer": "ipython3",
   "version": "3.7.5"
  }
 },
 "nbformat": 4,
 "nbformat_minor": 5
}
